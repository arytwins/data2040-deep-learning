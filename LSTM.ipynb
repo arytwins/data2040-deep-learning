{
 "cells": [
  {
   "cell_type": "code",
   "execution_count": 1,
   "metadata": {},
   "outputs": [
    {
     "name": "stderr",
     "output_type": "stream",
     "text": [
      "/home/ubuntu/anaconda3/lib/python3.6/site-packages/h5py/__init__.py:36: FutureWarning: Conversion of the second argument of issubdtype from `float` to `np.floating` is deprecated. In future, it will be treated as `np.float64 == np.dtype(float).type`.\n",
      "  from ._conv import register_converters as _register_converters\n",
      "Using TensorFlow backend.\n",
      "/home/ubuntu/anaconda3/lib/python3.6/site-packages/matplotlib/__init__.py:1067: UserWarning: Duplicate key in file \"/home/ubuntu/.config/matplotlib/matplotlibrc\", line #2\n",
      "  (fname, cnt))\n",
      "/home/ubuntu/anaconda3/lib/python3.6/site-packages/matplotlib/__init__.py:1067: UserWarning: Duplicate key in file \"/home/ubuntu/.config/matplotlib/matplotlibrc\", line #3\n",
      "  (fname, cnt))\n"
     ]
    }
   ],
   "source": [
    "import keras\n",
    "import numpy as np"
   ]
  },
  {
   "cell_type": "code",
   "execution_count": 3,
   "metadata": {},
   "outputs": [
    {
     "name": "stdout",
     "output_type": "stream",
     "text": [
      "Downloading data from https://www.gutenberg.org/files/1342/1342-0.txt\n",
      "729088/724725 [==============================] - 0s 0us/step\n",
      "Corpus length: 704190\n"
     ]
    }
   ],
   "source": [
    "path = keras.utils.get_file(\n",
    "    '1342-0.txt',\n",
    "    origin='https://www.gutenberg.org/files/1342/1342-0.txt')\n",
    "text = open(path).read().lower()\n",
    "print('Corpus length:', len(text))"
   ]
  },
  {
   "cell_type": "code",
   "execution_count": 21,
   "metadata": {},
   "outputs": [
    {
     "name": "stdout",
     "output_type": "stream",
     "text": [
      "Number of sequences: 234710\n",
      "Unique characters: 60\n",
      "Vectorization...\n"
     ]
    }
   ],
   "source": [
    "maxlen = 60\n",
    "step = 3\n",
    "sentences = []\n",
    "next_chars = []\n",
    "\n",
    "for i in range(0, len(text) - maxlen, step):\n",
    "    sentences.append(text[i: i + maxlen])\n",
    "    next_chars.append(text[i + maxlen])\n",
    "print('Number of sequences:', len(sentences))\n",
    "\n",
    "\n",
    "chars = sorted(list(set(text)))\n",
    "print('Unique characters:', len(chars))\n",
    "char_indices = dict((char, chars.index(char)) for char in chars)\n",
    "\n",
    "\n",
    "print('Vectorization...')\n",
    "x = np.zeros((len(sentences), maxlen, len(chars)), dtype=np.bool)\n",
    "y = np.zeros((len(sentences), len(chars)), dtype=np.bool)\n",
    "for i, sentence in enumerate(sentences):\n",
    "    for t, char in enumerate(sentence):\n",
    "        x[i, t, char_indices[char]] = 1\n",
    "    y[i, char_indices[next_chars[i]]] = 1"
   ]
  },
  {
   "cell_type": "code",
   "execution_count": 22,
   "metadata": {},
   "outputs": [],
   "source": [
    "from keras import layers\n",
    "\n",
    "model = keras.models.Sequential()\n",
    "model.add(layers.LSTM(128, input_shape=(maxlen, len(chars))))\n",
    "model.add(layers.Dense(len(chars), activation='softmax'))"
   ]
  },
  {
   "cell_type": "code",
   "execution_count": 23,
   "metadata": {},
   "outputs": [],
   "source": [
    "optimizer = keras.optimizers.RMSprop(lr=0.01)\n",
    "model.compile(loss='categorical_crossentropy', optimizer=optimizer)"
   ]
  },
  {
   "cell_type": "code",
   "execution_count": 24,
   "metadata": {},
   "outputs": [],
   "source": [
    "def sample(preds, temperature=1.0):\n",
    "    preds = np.asarray(preds).astype('float64')\n",
    "    preds = np.log(preds) / temperature\n",
    "    exp_preds = np.exp(preds)\n",
    "    preds = exp_preds / np.sum(exp_preds)\n",
    "    probas = np.random.multinomial(1, preds, 1)\n",
    "    return np.argmax(probas)"
   ]
  },
  {
   "cell_type": "code",
   "execution_count": 26,
   "metadata": {},
   "outputs": [
    {
     "name": "stdout",
     "output_type": "stream",
     "text": [
      "epoch 1\n",
      "Epoch 1/1\n",
      "234710/234710 [==============================] - 323s 1ms/step - loss: 1.8450\n",
      "--- Generating with seed: \"t length the parsonage was discernible. the garden sloping t\"\n",
      "------ temperature: 0.2\n",
      "t length the parsonage was discernible. the garden sloping to the pertions to be to the projection to the pertured to the could not the perted to be the parting to the projection to here to the could to the pertoution to the pertioned to be\n",
      "------ temperature: 0.5\n",
      "o here to the could to the pertoution to the pertioned to betined to the contresioul there was to the good the prefectioused to able.\n",
      "\n",
      "\n",
      "\n",
      "\n",
      "\n",
      "hered been it could not it dadies we the could to the supterine which all the reatied to the pertion \n",
      "------ temperature: 1.0\n",
      "could to the supterine which all the reatied to the pertion theermoid!\n",
      "“yout foetlecumined muth\n",
      "evices the fordined white is ang\n",
      "step. whice widt obendesting, and penharm it\n",
      "ible the poormed. which dowed\n",
      "my. booution; forgitplation on erise\n",
      "------ temperature: 1.2\n",
      "he poormed. which dowed\n",
      "my. booution; forgitplation on erise.”\n",
      "\n",
      "sittagting my littang\n",
      "!oution butnemim at doughted, and son. gard respectievety couciss,\n",
      "himievering heve alle, the\n",
      "adfidinurcylidia, for met\n",
      "yby.”\n",
      "\n",
      "“yiceid to armied; andouwut\n",
      "epoch 2\n",
      "Epoch 1/1\n",
      "234710/234710 [==============================] - 318s 1ms/step - loss: 1.6304\n",
      "--- Generating with seed: \"iss de bourgh was pale and sickly; her\n",
      "features, though not \"\n",
      "------ temperature: 0.2\n",
      "iss de bourgh was pale and sickly; her\n",
      "features, though not many of the coust to the could not many of the could not the could not his at his could not most of the could not it was not his and the cousting to the could not to the cousing to\n",
      "------ temperature: 0.5\n",
      " not his and the cousting to the could not to the cousing to good, and it was is to be the goor and could be\n",
      "so morting in the rest das would not the mother to his at the complied to the two you had so must with the sumplessown and it is he\n",
      "------ temperature: 1.0\n",
      "to the two you had so must with the sumplessown and it is hery to giving.\n",
      "\n",
      "forch aconss\n",
      "to ball everss was only jant\n",
      "are for him touke. hore\n",
      "she was from jusked his trous:,\n",
      "now to be to looks some to must. stake that\n",
      "is toot it\n",
      "was constish\n",
      "------ temperature: 1.2\n",
      "be to looks some to must. stake that\n",
      "is toot it\n",
      "was constish, shith regard the regive\n",
      "whalen; betamentagsantall\n",
      "upfibutive,\n",
      "my little daughtletions furwormed\n",
      "had. bett, sistendenty upot. but jany, equakcofbimen an the refment jance, could v\n",
      "epoch 3\n",
      "Epoch 1/1\n",
      "234710/234710 [==============================] - 322s 1ms/step - loss: 1.5252\n",
      "--- Generating with seed: \"it seems, he has been told by some of the good-natured, goss\"\n",
      "------ temperature: 0.2\n",
      "it seems, he has been told by some of the good-natured, goss be me of the prividution that i have and it was such a mire that i have been this mind as so much at the pain the paid this interest of his father to him to him to be any all the \n",
      "------ temperature: 0.5\n",
      "this interest of his father to him to him to be any all the will of the family was such a very love and have\n",
      "been which she had bren to him at her fitzabeth and the proper of his little beth at the cour always to be not thinks that many pro\n",
      "------ temperature: 1.0\n",
      "ittle beth at the cour always to be not thinks that many proper compary, by a ary feem\n",
      "all cillan lydive indowaning very times; and which\n",
      "she was pationy fornthing didan, with himfany abseract there not their been thimp nown pucsucievakion \n",
      "------ temperature: 1.2\n",
      "any abseract there not their been thimp nown pucsucievakion dive sccreath.\n",
      "\n",
      "it to enter mucn endate anytuar, thorete's advisting at\n",
      "anowe whice. it is mannion. she troar\n",
      "fagoby of his objicact anstent\n",
      "indist towet conusm. _your signot had.”\n",
      "epoch 4\n",
      "Epoch 1/1\n",
      "234710/234710 [==============================] - 321s 1ms/step - loss: 1.5427\n",
      "--- Generating with seed: \"ction are in the public domain in the united states.  if an\n",
      "\"\n",
      "------ temperature: 0.2\n",
      "ction are in the public domain in the united states.  if an\n",
      "usser to the party a stronger had been a some to the presonable to the present to the presunder to the presonable to her as so the farther to have a sonner to have a she was not to\n",
      "------ temperature: 0.5\n",
      " as so the farther to have a sonner to have a she was not to have hearty in the again in the pressive to in the entless the tent all.\n",
      "\n",
      "“was not to have has sense of the family was as so the for desing different good her any the planion of t\n",
      "------ temperature: 1.0\n",
      "as so the for desing different good her any the planion of to hem\n",
      "by in a\n",
      "longen on was afterwards would not in sometein,\n",
      "peshal biding against far the past vossance to kinly to surery added to he, in aurtage, engagend to the doorally was. \n",
      "------ temperature: 1.2\n",
      "rery added to he, in aurtage, engagend to the doorally was. yes, by weether-are\n",
      "liess outten w\n",
      "th i no so wondin, he gutening a lyousally by the caued to nothed in as, him to agains wilkly ebjoirsh.” sonne-sasy a milligner, for no never rem\n",
      "epoch 5\n",
      "Epoch 1/1\n",
      "234710/234710 [==============================] - 322s 1ms/step - loss: 1.4258\n",
      "--- Generating with seed: \"and i thought\n",
      "colonel forster looked very becoming the other\"\n",
      "------ temperature: 0.2\n",
      "and i thought\n",
      "colonel forster looked very becoming the other interested to be ansure to be ansured to be soon of his sister to be then to be took here to be to be some to be is a charlotte of the party was not the particulary of a companien\n",
      "------ temperature: 0.5\n",
      "harlotte of the party was not the particulary of a companient on the passed here the posfected of the people would not be allayments, though in the bestand to be secred. the point. the necessable of the internationshour of the room here not\n",
      "------ temperature: 1.0\n",
      " the necessable of the internationshour of the room here not, and subject? the"
     ]
    },
    {
     "name": "stderr",
     "output_type": "stream",
     "text": [
      "/home/ubuntu/anaconda3/lib/python3.6/site-packages/ipykernel/__main__.py:3: RuntimeWarning: divide by zero encountered in log\n",
      "  app.launch_new_instance()\n"
     ]
    },
    {
     "name": "stdout",
     "output_type": "stream",
     "text": [
      "y wishlement?”\n",
      "\n",
      "“and lydge. mr.\n",
      "darcy yout _oune_ changers, who was you.”\n",
      "\n",
      "“rosionsest to be deproborate comfurted anded much to be wich, anythandshonsed tekered \n",
      "------ temperature: 1.2\n",
      "te comfurted anded much to be wich, anythandshonsed tekered gotavour.\n",
      "then quithed diffured by yesuen matore, to chauge; with chupted to formation, “how\n",
      "was nother erentagenge willidston upose child elizaneterpy grouge for which _ondy conte\n",
      "epoch 6\n",
      "Epoch 1/1\n",
      "234710/234710 [==============================] - 321s 1ms/step - loss: 1.4004\n",
      "--- Generating with seed: \"ond\n",
      "of me; and i have devoted hours and hours to her amuseme\"\n",
      "------ temperature: 0.2\n",
      "ond\n",
      "of me; and i have devoted hours and hours to her amusement to the consequence to the person the farth of the park of the project gutenberg-tm the least of the proved to the particulars of the person the person any of the pensents of the\n",
      "------ temperature: 0.5\n",
      "ticulars of the person the person any of the pensents of the pendeed the spect of the parting so\n",
      "meant an offerratile of her father, who will dear she seemed a consequence of the prepeared a sended a senging an as to the farth with the fart\n",
      "------ temperature: 1.0\n",
      "repeared a sended a senging an as to the farth with the farth on, a since recopious, “it behave of oucs--so manting your, couse would alse a cleminsabre civility; and malking the affibuse to heave but lass soon manner which the includity, t\n",
      "------ temperature: 1.2\n",
      "ffibuse to heave but lass soon manner which the includity, thos younglus'less, you. for mochly myself, with well, kict?” faw. in spensusely arceve\n",
      "scover of stuy in a feemed firzts\n",
      "satelines require seetibley only inway interfulity must not\n",
      "epoch 7\n",
      "Epoch 1/1\n",
      "234710/234710 [==============================] - 321s 1ms/step - loss: 1.3834\n",
      "--- Generating with seed: \"y disinclined at present to leave london and promised\n",
      "to wri\"\n",
      "------ temperature: 0.2\n",
      "y disinclined at present to leave london and promised\n",
      "to write and the garding the strent at the was becousent her manner, and that the two my father's struck to be so many and her some to the manner was not be in the room. but the other in\n",
      "------ temperature: 0.5\n",
      " some to the manner was not be in the room. but the other indifferent with the earted to be elizabeth many place now away have the two eart and very married, that her attried to the part in such an after a stranger to the two excepted that \n",
      "------ temperature: 1.0\n",
      "e part in such an after a stranger to the two excepted that to seeldight rath inswine as it was recellone, at liften it yout merial part your lot then compasiture archuring and divan, it was yem surpribet to find\n",
      "out, by him at last befectu\n",
      "------ temperature: 1.2\n",
      "an, it was yem surpribet to find\n",
      "out, by him at last befecture lyseration it vers, bif was to the belorbuse that downitial it wist gardibent the very othering what accestance; cothering she hardter, was husbarst of what that sheardge faw ab\n",
      "epoch 8\n",
      "Epoch 1/1\n",
      "234710/234710 [==============================] - 321s 1ms/step - loss: 1.3656\n",
      "--- Generating with seed: \"t, with a polite congratulation; mr. hurst also\n",
      "made her a s\"\n",
      "------ temperature: 0.2\n",
      "t, with a polite congratulation; mr. hurst also\n",
      "made her a short to the consins of mrs. bennet was the subject to the consins them and then the present of the father was should not have not been the mother's consideration the strent them an\n",
      "------ temperature: 0.5\n",
      " have not been the mother's consideration the strent them and with the manness that the letter them derect for a stain of the room. i have been at the morned to compary of meryton to be intis and and were the roon that she had not hears of \n",
      "------ temperature: 1.0\n",
      "to be intis and and were the roon that she had not hears of something them sometrining her dear concern, accuising and something her, respect and my them, and when friends was queking your was know,\n",
      "with her\n",
      "soon reat my tite\n",
      "lydened to be \n",
      "------ temperature: 1.2\n",
      "ing your was know,\n",
      "with her\n",
      "soon reat my tite\n",
      "lydened to be inderst, i sellim,”'s. therefore elpome mecolsed threule year' time\n",
      "my recupinaty; but is the\n",
      "opposive\n",
      "_ton_\n",
      "suged and\n",
      "thearing oten mrs. collins giving. pucsficictign; and he insp\n",
      "epoch 9\n",
      "Epoch 1/1\n",
      "234710/234710 [==============================] - 322s 1ms/step - loss: 1.3558\n",
      "--- Generating with seed: \"e of whom we shall deprive you.”\n",
      "\n",
      "“it is evident by this,” a\"\n",
      "------ temperature: 0.2\n",
      "e of whom we shall deprive you.”\n",
      "\n",
      "“it is evident by this,” added to her former to her formation of her for the rest the rest the more the project gutenberg the surpried to her former to supposion of the country. but i should be a certain of\n",
      "------ temperature: 0.5\n",
      "er to supposion of the country. but i should be a certain of\n",
      "her fearts, she was sense of the exact of the daught of the house. in the family a meryton so next to such a perfectly the sensible the compared the sensible the interestand at al\n",
      "------ temperature: 1.0\n",
      "the sensible the compared the sensible the interestand at all\n",
      "impruden to sown the forgisfudent, to\n",
      "miss bingley was short againss on the generation at adutated, the ffor\n",
      "agreement of him to talkingcounlour off\n",
      "deceveded to year, marryink m\n",
      "------ temperature: 1.2\n",
      " of him to talkingcounlour off\n",
      "deceveded to year, marryink myselver foundston, a certain, well, and she most\n",
      "know again. they weedsess.”\n",
      "\n",
      "“i should expectate.\n",
      "\n",
      "“wirdy--was a comfal for amumear a housausing of take.”\n",
      "\n",
      "“their liberally befewe\n"
     ]
    }
   ],
   "source": [
    "import random\n",
    "import sys\n",
    "\n",
    "for epoch in range(1, 10):\n",
    "    print('epoch', epoch)\n",
    "    # Fit the model for 1 epoch on the available training data\n",
    "    model.fit(x, y,\n",
    "              batch_size=512,\n",
    "              epochs=1)\n",
    "\n",
    "    # Select a text seed at random\n",
    "    start_index = random.randint(0, len(text) - maxlen - 1)\n",
    "    generated_text = text[start_index: start_index + maxlen]\n",
    "    print('--- Generating with seed: \"' + generated_text + '\"')\n",
    "\n",
    "    for temperature in [0.2, 0.5, 1.0, 1.2]:\n",
    "        print('------ temperature:', temperature)\n",
    "        sys.stdout.write(generated_text)\n",
    "\n",
    "        # We generate 180 characters\n",
    "        for i in range(180):\n",
    "            sampled = np.zeros((1, maxlen, len(chars)))\n",
    "            for t, char in enumerate(generated_text):\n",
    "                sampled[0, t, char_indices[char]] = 1.\n",
    "\n",
    "            preds = model.predict(sampled, verbose=0)[0]\n",
    "            next_index = sample(preds, temperature)\n",
    "            next_char = chars[next_index]\n",
    "\n",
    "            generated_text += next_char\n",
    "            generated_text = generated_text[1:]\n",
    "\n",
    "            sys.stdout.write(next_char)\n",
    "            sys.stdout.flush()\n",
    "        print()"
   ]
  },
  {
   "cell_type": "code",
   "execution_count": 28,
   "metadata": {},
   "outputs": [
    {
     "name": "stdout",
     "output_type": "stream",
     "text": [
      "--- Generating with seed: \"istened, wondered, doubted, and was impatient for more. mrs.\"\n",
      "istened, wondered, doubted, and was impatient for more. mrs. bennet was the c"
     ]
    },
    {
     "name": "stderr",
     "output_type": "stream",
     "text": [
      "/home/ubuntu/anaconda3/lib/python3.6/site-packages/ipykernel/__main__.py:3: RuntimeWarning: divide by zero encountered in log\n",
      "  app.launch_new_instance()\n"
     ]
    },
    {
     "name": "stdout",
     "output_type": "stream",
     "text": [
      "ompohed to her sister the lively accusait to him without to him to speak, and the compared to expect to be of the country. but anything of what her country. elizabet in the mentions with his probablery to be accountroficed to him of the party; and the time and sirchishal to staired to the sure i should be as they were not the counted the project gutenberg which the wisted the same to her easily with the counted the sable of him to speed to be dine of the discourtry to decersed to his proper of the rest of the words of the acquaintance of the country. but i should be any discourtress, and who have been the project gutenberg the compared to his sisters in the country. but he added to speak the same\n",
      "of his sister of her formation of her own a project gutenberg-tm the project gutenberg that he was so any provinity in the room, she was been to comprehend to the project gutenberg the same of the present of a most quite a very country. my dear of her sister of being with the more interrunt as the country. but i was any of the partualone in the away as she was her a compliment to her for the reason to expressions of the country. but i would have been to her sisters and sirching to the more to her sisters, and with the country. but i have no least. he was the project gutenberg who had been the sense. she was discourtress of him to be in the more as she was any of her expressions of a considerable could not have not a would have been a compliments of the surpose and the project gutenberg to the reason as she had surpose to miss bingley. “i should not have been the read him to be mind him to my countent of his cousting so suppose to be soon as the same to her account. it was not me the country. and in the party to him to miss bingley's father was any of love.”\n",
      "\n",
      "“i\n"
     ]
    }
   ],
   "source": [
    "start_index = random.randint(0, len(text) - maxlen - 1)\n",
    "generated_text = text[start_index: start_index + maxlen]\n",
    "print('--- Generating with seed: \"' + generated_text + '\"')\n",
    "    \n",
    "sys.stdout.write(generated_text)\n",
    "temperature = 0.35\n",
    "\n",
    "# We generate 1800 characters\n",
    "for i in range(1800):\n",
    "    sampled = np.zeros((1, maxlen, len(chars)))\n",
    "    for t, char in enumerate(generated_text):\n",
    "        sampled[0, t, char_indices[char]] = 1.\n",
    "\n",
    "    preds = model.predict(sampled, verbose=0)[0]\n",
    "    next_index = sample(preds, temperature)\n",
    "    next_char = chars[next_index]\n",
    "\n",
    "    generated_text += next_char\n",
    "    generated_text = generated_text[1:]\n",
    "\n",
    "    sys.stdout.write(next_char)\n",
    "    sys.stdout.flush()\n",
    "print()"
   ]
  },
  {
   "cell_type": "code",
   "execution_count": 29,
   "metadata": {},
   "outputs": [
    {
     "name": "stdout",
     "output_type": "stream",
     "text": [
      " was not be any of my expect to\n",
      "seevery witho"
     ]
    },
    {
     "name": "stderr",
     "output_type": "stream",
     "text": [
      "/home/ubuntu/anaconda3/lib/python3.6/site-packages/ipykernel/__main__.py:3: RuntimeWarning: divide by zero encountered in log\n",
      "  app.launch_new_instance()\n"
     ]
    },
    {
     "name": "stdout",
     "output_type": "stream",
     "text": [
      "ut mentionions of the country of his probers was as the rest them to scarcely meryton, and for the cousting him with a the former to she could be surce to the\n",
      "constriation of her sister of my fidd everybody wished of my increased whether, and her proved to the family of the family for\n",
      "the room.\n",
      "\n",
      "“i should be sure anyone to scided to him to her formation of the streptred any project gutenberg-tm the same of we comproprety without mentioned her at as the meand to her former to she had been foressely menty of his eyes of his father was proved to be not to staying, in the house, and the dear as therefore could be so feelings when she was so much the destrowing to anything to the project gutenberg to the party; and it was about the strept them. and they could not attemption of they spoke. it which i shall contrady and the perfection to her easious and expecting the brother. i should be so supposion of his forminy of the compose the money in the country. but i shall not her former was so settled to the more for the considering at the rest the cousting the sufferent which the coustent more of the comperial could formed the evening the gentlemen to her former sense of project gutenberg who should have soon become for a strongly compliments with the same to be her mother was proved to be not here to be anything of the dine of the subject. by her heart to see the possible. anything her to him as they were all the misted to scarcely mention in the evening him and could not miss bingley without interring at the country. elizabeth had any almeathed it was such a professions of the party of his except the day and the project gutenberg and my different with a comproper wisted the subject was the pride here she has always project gutenberg w\n"
     ]
    }
   ],
   "source": [
    "temperature = 0.45\n",
    "\n",
    "# We generate 1800 characters\n",
    "for i in range(1800):\n",
    "    sampled = np.zeros((1, maxlen, len(chars)))\n",
    "    for t, char in enumerate(generated_text):\n",
    "        sampled[0, t, char_indices[char]] = 1.\n",
    "\n",
    "    preds = model.predict(sampled, verbose=0)[0]\n",
    "    next_index = sample(preds, temperature)\n",
    "    next_char = chars[next_index]\n",
    "\n",
    "    generated_text += next_char\n",
    "    generated_text = generated_text[1:]\n",
    "\n",
    "    sys.stdout.write(next_char)\n",
    "    sys.stdout.flush()\n",
    "print()"
   ]
  },
  {
   "cell_type": "code",
   "execution_count": 30,
   "metadata": {},
   "outputs": [
    {
     "name": "stdout",
     "output_type": "stream",
     "text": [
      "ith the door unit"
     ]
    },
    {
     "name": "stderr",
     "output_type": "stream",
     "text": [
      "/home/ubuntu/anaconda3/lib/python3.6/site-packages/ipykernel/__main__.py:3: RuntimeWarning: divide by zero encountered in log\n",
      "  app.launch_new_instance()\n"
     ]
    },
    {
     "name": "stdout",
     "output_type": "stream",
     "text": [
      "ed. there must consequent grounds of the idearion in my hume which herself. as she had subject was not to him. lodys his thank as they could be to his condented to here my long\n",
      "of the famity of the ugaring to him of refund as\n",
      "the lady fortune of his profect and complace licently believed make the sent for my formed at thesearss from her\n",
      "heart, and\n",
      "enuation she was herself. i never from be bow they different him to her former for the room as should be with mind probers for the project weaknescest your being and the distroun could not not be imprudy, soon so of a greate of such a scompanious attempt to added to be a rejoice your sister. but mrs. bennet for the commind except an expressions, in the surpried the whose everybody make negard.\n",
      "\n",
      "“i would not hope itsome,\n",
      "she suffers to her to scilinal\n",
      "decersed of the more any\n",
      "as she would not have could at shall of neithered were a willinial to her the sext sime in\n",
      "them, and she would not accompaty, and as to what they were myrefing than on which and sisters\n",
      "and entiolened\n",
      "before elizabeth myself.\n",
      "\n",
      "inquired to give the awore of a speaking wickham's daught of than she would never hope which the should be reflent they party. will not had been all him of such a most debine. my dear have a rejoice of them, and i should have complody they waught with her proper to his concerning the sister. and jane was news of the different of him.\n",
      "\n",
      "her\n",
      "dear impositiou herself views with the country themselves not to hope with the exact to everybody could enoleured a came him to make in what they were the the\n",
      "room.\n",
      "\n",
      "“i did\n",
      "not the present\n",
      "of her informatiou the account and growing to his expect.”\n",
      "\n",
      "denate with a tood very provoussed could, i whises of my dispose of comproppired to feltored of\n",
      "his\n",
      "different firch here.”\n",
      "\n",
      "enoughing hi\n"
     ]
    }
   ],
   "source": [
    "temperature = 0.75\n",
    "\n",
    "# We generate 1800 characters\n",
    "for i in range(1800):\n",
    "    sampled = np.zeros((1, maxlen, len(chars)))\n",
    "    for t, char in enumerate(generated_text):\n",
    "        sampled[0, t, char_indices[char]] = 1.\n",
    "\n",
    "    preds = model.predict(sampled, verbose=0)[0]\n",
    "    next_index = sample(preds, temperature)\n",
    "    next_char = chars[next_index]\n",
    "\n",
    "    generated_text += next_char\n",
    "    generated_text = generated_text[1:]\n",
    "\n",
    "    sys.stdout.write(next_char)\n",
    "    sys.stdout.flush()\n",
    "print()"
   ]
  },
  {
   "cell_type": "code",
   "execution_count": null,
   "metadata": {},
   "outputs": [],
   "source": []
  }
 ],
 "metadata": {
  "kernelspec": {
   "display_name": "Python [default]",
   "language": "python",
   "name": "python3"
  },
  "language_info": {
   "codemirror_mode": {
    "name": "ipython",
    "version": 3
   },
   "file_extension": ".py",
   "mimetype": "text/x-python",
   "name": "python",
   "nbconvert_exporter": "python",
   "pygments_lexer": "ipython3",
   "version": "3.6.4"
  }
 },
 "nbformat": 4,
 "nbformat_minor": 2
}
